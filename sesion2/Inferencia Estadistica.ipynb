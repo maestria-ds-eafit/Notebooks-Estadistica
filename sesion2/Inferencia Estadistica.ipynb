{
 "cells": [
  {
   "cell_type": "code",
   "execution_count": 14,
   "id": "15310a5a",
   "metadata": {},
   "outputs": [],
   "source": [
    "import numpy as np\n",
    "from scipy.stats import t, norm"
   ]
  },
  {
   "cell_type": "code",
   "execution_count": 2,
   "id": "e13670b2",
   "metadata": {},
   "outputs": [
    {
     "data": {
      "text/plain": [
       "-2.171544676008068"
      ]
     },
     "execution_count": 2,
     "metadata": {},
     "output_type": "execute_result"
    }
   ],
   "source": [
    "n = 25\n",
    "alfa = 0.04\n",
    "t.ppf(alfa/2, n-1)"
   ]
  },
  {
   "cell_type": "code",
   "execution_count": 7,
   "id": "3960d3e3",
   "metadata": {},
   "outputs": [
    {
     "data": {
      "text/plain": [
       "148613.4473422016"
      ]
     },
     "execution_count": 7,
     "metadata": {},
     "output_type": "execute_result"
    }
   ],
   "source": [
    "158950 - abs(t.ppf(alfa/2, n-1))*23800/np.sqrt(n)"
   ]
  },
  {
   "cell_type": "code",
   "execution_count": 6,
   "id": "537293ca",
   "metadata": {},
   "outputs": [
    {
     "data": {
      "text/plain": [
       "169286.5526577984"
      ]
     },
     "execution_count": 6,
     "metadata": {},
     "output_type": "execute_result"
    }
   ],
   "source": [
    "158950 + abs(t.ppf(alfa/2, n-1))*23800/np.sqrt(n)"
   ]
  },
  {
   "cell_type": "code",
   "execution_count": 8,
   "id": "a7b8b87f",
   "metadata": {},
   "outputs": [],
   "source": [
    "### Diferencia de medias\n",
    "X_e_barra = 111.6\n",
    "X_d_barra = 115.8\n",
    "\n",
    "n = 21\n",
    "\n",
    "s_e = 10\n",
    "s_d = 15\n",
    "\n",
    "alfa = 0.03"
   ]
  },
  {
   "cell_type": "code",
   "execution_count": 9,
   "id": "ba83ef9a",
   "metadata": {},
   "outputs": [],
   "source": [
    "v = (((s_e**2/n)+ (s_d**2/n))**2)/((s_e**2/n)**2/(n-1)+(s_d**2/n)**2/(n-1))"
   ]
  },
  {
   "cell_type": "code",
   "execution_count": 10,
   "id": "bab59913",
   "metadata": {},
   "outputs": [
    {
     "data": {
      "text/plain": [
       "41.814432989690715"
      ]
     },
     "execution_count": 10,
     "metadata": {},
     "output_type": "execute_result"
    }
   ],
   "source": [
    "v"
   ]
  },
  {
   "cell_type": "code",
   "execution_count": 11,
   "id": "18acf14b",
   "metadata": {},
   "outputs": [
    {
     "data": {
      "text/plain": [
       "-12.300502851654153"
      ]
     },
     "execution_count": 11,
     "metadata": {},
     "output_type": "execute_result"
    }
   ],
   "source": [
    "X_e_barra-X_d_barra - abs(t.ppf(alfa/2, v))*np.sqrt(s_e**2/n + s_d**2/n)"
   ]
  },
  {
   "cell_type": "code",
   "execution_count": 12,
   "id": "50a13a75",
   "metadata": {},
   "outputs": [
    {
     "data": {
      "text/plain": [
       "3.9005028516541476"
      ]
     },
     "execution_count": 12,
     "metadata": {},
     "output_type": "execute_result"
    }
   ],
   "source": [
    "X_e_barra-X_d_barra + abs(t.ppf(alfa/2, v))*np.sqrt(s_e**2/n + s_d**2/n)"
   ]
  },
  {
   "cell_type": "code",
   "execution_count": 13,
   "id": "14754e86",
   "metadata": {},
   "outputs": [],
   "source": [
    "### Intervalo de confianza para la proporcion\n",
    "n = 55\n",
    "X = 11\n",
    "alfa = 0.1\n",
    "\n",
    "p = X/n"
   ]
  },
  {
   "cell_type": "code",
   "execution_count": 15,
   "id": "0ce2a5e9",
   "metadata": {},
   "outputs": [
    {
     "data": {
      "text/plain": [
       "0.11128319287497217"
      ]
     },
     "execution_count": 15,
     "metadata": {},
     "output_type": "execute_result"
    }
   ],
   "source": [
    "p-abs(norm.ppf(alfa/2))*np.sqrt(p*(1-p)/n)"
   ]
  },
  {
   "cell_type": "code",
   "execution_count": 16,
   "id": "b997bcea",
   "metadata": {},
   "outputs": [
    {
     "data": {
      "text/plain": [
       "0.28871680712502784"
      ]
     },
     "execution_count": 16,
     "metadata": {},
     "output_type": "execute_result"
    }
   ],
   "source": [
    "p+abs(norm.ppf(alfa/2))*np.sqrt(p*(1-p)/n)"
   ]
  },
  {
   "cell_type": "code",
   "execution_count": null,
   "id": "45d3a0a3",
   "metadata": {},
   "outputs": [],
   "source": []
  }
 ],
 "metadata": {
  "kernelspec": {
   "display_name": "Python 3 (ipykernel)",
   "language": "python",
   "name": "python3"
  },
  "language_info": {
   "codemirror_mode": {
    "name": "ipython",
    "version": 3
   },
   "file_extension": ".py",
   "mimetype": "text/x-python",
   "name": "python",
   "nbconvert_exporter": "python",
   "pygments_lexer": "ipython3",
   "version": "3.9.7"
  }
 },
 "nbformat": 4,
 "nbformat_minor": 5
}
